{
 "cells": [
  {
   "cell_type": "code",
   "execution_count": 2,
   "id": "b1a4fa75",
   "metadata": {},
   "outputs": [
    {
     "name": "stdout",
     "output_type": "stream",
     "text": [
      "<KeysViewHDF5 ['change_points', 'features', 'gtscore', 'gtsummary', 'n_frame_per_seg', 'n_frames', 'n_steps', 'picks', 'user_summary', 'video_name']>\n",
      "Air_Force_One\n",
      "[[0. 0. 0. ... 0. 0. 0.]\n",
      " [0. 0. 0. ... 0. 0. 0.]\n",
      " [0. 0. 0. ... 0. 0. 0.]\n",
      " ...\n",
      " [0. 0. 0. ... 0. 0. 0.]\n",
      " [0. 0. 0. ... 0. 0. 0.]\n",
      " [0. 0. 0. ... 0. 0. 0.]]\n",
      "(15, 4494)\n",
      "0\n",
      "1\n",
      "2\n"
     ]
    }
   ],
   "source": [
    "import pickle\n",
    "\n",
    "import h5py\n",
    "import matplotlib.pyplot as plt\n",
    "import numpy as np\n",
    "\n",
    "# raw_data_path = \"./data/video_features.pickle\"\n",
    "# raw_video_features = pickle.load(open(raw_data_path, \"rb\"))\n",
    "\n",
    "\n",
    "data_path = \"../../data/formatted_data/SumMe/eccv16_dataset_summe_google_pool5.h5\"\n",
    "hdf = h5py.File(data_path, \"r\")  # Open hdf file\n",
    "\"\"\"\n",
    "/key\n",
    "    /features                 2D-array with shape (n_steps, feature-dimension)\n",
    "    /gtscore                  1D-array with shape (n_steps), stores ground truth importance score (used for training, e.g. regression loss)\n",
    "    /user_summary             2D-array with shape (num_users, n_frames), each row is a binary vector (used for test)\n",
    "    /change_points            2D-array with shape (num_segments, 2), each row stores indices of a segment\n",
    "    /n_frame_per_seg          1D-array with shape (num_segments), indicates number of frames in each segment\n",
    "    /n_frames                 number of frames in original video\n",
    "    /picks                    positions of sub-sampled frames in original video\n",
    "    /n_steps                  number of sub-sampled frames\n",
    "    /gtsummary                1D-array with shape (n_steps), ground truth summary provided by user (used for training, e.g. maximum likelihood)\n",
    "    /video_name (optional)    original video name, only available for SumMe dataset\n",
    "\"\"\"\n",
    "\n",
    "video_name = \"video_1\"\n",
    "print(hdf[video_name].keys())\n",
    "\n",
    "gtsummary = np.array(hdf[video_name][\"gtsummary\"])  # For training\n",
    "user_summary = np.array(hdf[video_name][\"user_summary\"])  # for\n",
    "video_full_name = np.array(hdf[video_name][\"video_name\"]).astype(str)\n",
    "change_points = np.array(hdf[video_name][\"change_points\"])\n",
    "print(video_full_name)\n",
    "print(user_summary)\n",
    "print(user_summary.shape)\n",
    "\n",
    "# plt.bar(x, height, width, bottom, align)\n",
    "\n",
    "segments = []\n",
    "\n",
    "s = 1\n",
    "flag = 1\n",
    "\n",
    "for i in range(3):\n",
    "    print(i)\n",
    "\n",
    "for cp in change_points:\n",
    "    num_frame = cp[1] - cp[0] + 1\n",
    "    for i in range(num_frame):\n",
    "        segments.append(s)\n",
    "\n",
    "    s += flag\n",
    "    flag *= -1\n",
    "\n",
    "\n"
   ]
  },
  {
   "cell_type": "code",
   "execution_count": 3,
   "id": "f72e7052",
   "metadata": {},
   "outputs": [
    {
     "ename": "TypeError",
     "evalue": "bar() missing 1 required positional argument: 'height'",
     "output_type": "error",
     "traceback": [
      "\u001b[0;31m---------------------------------------------------------------------------\u001b[0m",
      "\u001b[0;31mTypeError\u001b[0m                                 Traceback (most recent call last)",
      "Cell \u001b[0;32mIn[3], line 7\u001b[0m\n\u001b[1;32m      4\u001b[0m fig \u001b[38;5;241m=\u001b[39m plt\u001b[38;5;241m.\u001b[39mfigure(figsize\u001b[38;5;241m=\u001b[39m(\u001b[38;5;241m10\u001b[39m, \u001b[38;5;241m7\u001b[39m))\n\u001b[1;32m      6\u001b[0m \u001b[38;5;66;03m# Horizontal Bar Plot\u001b[39;00m\n\u001b[0;32m----> 7\u001b[0m \u001b[43mplt\u001b[49m\u001b[38;5;241;43m.\u001b[39;49m\u001b[43mbar\u001b[49m\u001b[43m(\u001b[49m\u001b[43msegments\u001b[49m\u001b[43m)\u001b[49m\n\u001b[1;32m      8\u001b[0m \u001b[38;5;66;03m# plt.bar(x, height, width, bottom, align)\u001b[39;00m\n\u001b[1;32m      9\u001b[0m \n\u001b[1;32m     10\u001b[0m \u001b[38;5;66;03m# Show Plot\u001b[39;00m\n\u001b[1;32m     11\u001b[0m plt\u001b[38;5;241m.\u001b[39mshow()\n",
      "\u001b[0;31mTypeError\u001b[0m: bar() missing 1 required positional argument: 'height'"
     ]
    },
    {
     "data": {
      "text/plain": [
       "<Figure size 1000x700 with 0 Axes>"
      ]
     },
     "metadata": {},
     "output_type": "display_data"
    }
   ],
   "source": [
    "from matplotlib import pyplot as plt\n",
    "\n",
    "# Figure Size\n",
    "fig = plt.figure(figsize=(10, 7))\n",
    "\n",
    "# Horizontal Bar Plot\n",
    "plt.bar(segments)\n",
    "# plt.bar(x, height, width, bottom, align)\n",
    "\n",
    "# Show Plot\n",
    "plt.show()\n"
   ]
  },
  {
   "cell_type": "code",
   "execution_count": null,
   "id": "ea4d3014",
   "metadata": {},
   "outputs": [],
   "source": []
  }
 ],
 "metadata": {
  "kernelspec": {
   "display_name": "Python 3 (ipykernel)",
   "language": "python",
   "name": "python3"
  },
  "language_info": {
   "codemirror_mode": {
    "name": "ipython",
    "version": 3
   },
   "file_extension": ".py",
   "mimetype": "text/x-python",
   "name": "python",
   "nbconvert_exporter": "python",
   "pygments_lexer": "ipython3",
   "version": "3.10.12"
  }
 },
 "nbformat": 4,
 "nbformat_minor": 5
}
