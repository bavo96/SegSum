{
 "cells": [
  {
   "cell_type": "code",
   "execution_count": 21,
   "id": "67b44d88",
   "metadata": {},
   "outputs": [],
   "source": [
    "import pickle\n",
    "import numpy as np\n",
    "import h5py\n",
    "import json\n",
    "import sys\n",
    "np.set_printoptions(threshold=sys.maxsize)\n",
    "import seaborn as sns\n",
    "import matplotlib.pylab as plt\n",
    "import cv2\n",
    "import os\n",
    "from pathlib import Path\n",
    "\n",
    "\n",
    "dataset_name = \"SumMe\"\n",
    "# dataset_name = \"TVSum\"\n",
    "\n",
    "model_score = pickle.load(\n",
    "    open(f\"./{dataset_name.lower()}_video_scores.pickle\", \"rb\")\n",
    ")\n",
    "\n",
    "if dataset_name == \"SumMe\":\n",
    "    video_path = \"../../../data/SumMe/videos/\"\n",
    "elif dataset_name == \"TVSum\":\n",
    "    video_path = \"../../../data/tvsum50_ver_1_1/ydata-tvsum50-v1_1/ydata-tvsum50-video/video/\"\n",
    "\n",
    "data_path = (\n",
    "    f\"../data/{dataset_name}/eccv16_dataset_{dataset_name.lower()}_google_pool5.h5\"\n",
    ")\n",
    "hdf = h5py.File(data_path, \"r\")  # Open hdf file\n",
    "\n",
    "\n",
    "# TVSum: XzYM3PfTM4w\n",
    "# SumMe: St Maarten Landing\n",
    "\n",
    "splits = json.loads(\n",
    "    open(f\"../data/splits/{dataset_name.lower()}_splits.json\", \"r\").read()\n",
    ")\n",
    "\n",
    "\n",
    "if dataset_name == \"SumMe\":\n",
    "#     s = 2\n",
    "    s = 2\n",
    "elif dataset_name == \"TVSum\":\n",
    "    s = 4\n",
    "\n",
    "# keys = splits[s][\"train_keys\"]\n",
    "keys = splits[s][\"test_keys\"]\n",
    "\n",
    "# Get video name\n",
    "\n",
    "video2index = {}\n",
    "index2video = {}\n",
    "frame2video = {}\n",
    "\n",
    "for i, video_name in enumerate(keys):\n",
    "    if dataset_name == \"SumMe\":\n",
    "        video_full_name = np.array(hdf[video_name][\"video_name\"]).astype(str).tolist()\n",
    "        video2index[video_full_name] = video_name \n",
    "        index2video[video_name] = video_full_name \n",
    "    elif dataset_name == \"TVSum\":        \n",
    "        for key in list(hdf.keys()):\n",
    "            nframes = int(np.array(hdf[key][\"n_frames\"]))\n",
    "            frame2video[nframes] = key\n",
    "\n",
    "        for video_full_name, data in model_score.items():\n",
    "            video2index[video_full_name] = frame2video[data[\"summary\"].shape[0]]\n",
    "            index2video[frame2video[data[\"summary\"].shape[0]]] = video_full_name\n"
   ]
  },
  {
   "cell_type": "code",
   "execution_count": 22,
   "id": "4175a72e",
   "metadata": {
    "scrolled": true
   },
   "outputs": [
    {
     "name": "stdout",
     "output_type": "stream",
     "text": [
      "{'Excavators river crossing': 'video_10', 'Kids_playing_in_leaves': 'video_13', 'St Maarten Landing': 'video_19', 'car_over_camera': 'video_23', 'Eiffel Tower': 'video_9'}\n"
     ]
    }
   ],
   "source": [
    "# print(model_score)\n",
    "print(video2index)\n"
   ]
  },
  {
   "cell_type": "code",
   "execution_count": 23,
   "id": "7fa77cc2",
   "metadata": {},
   "outputs": [
    {
     "name": "stdout",
     "output_type": "stream",
     "text": [
      "Excavators river crossing\n",
      "Kids_playing_in_leaves\n",
      "St Maarten Landing\n",
      "video: St Maarten Landing\n",
      "0.1433466590519703\n",
      "torch.Size([12, 12])\n",
      "video name: St Maarten Landing video_19\n",
      "num frames: 1751\n",
      "changepoint: (12, 2)\n",
      "user sum: (17, 1751)\n",
      "attn weight 0: 12\n",
      "attn diag:\n",
      "0.08486567 0.03813355 1.0 0.034903977 0.108392246 0.06163942 0.089932635 0.13247116 0.15788972 0.17020781 0.14613613 0.13983397 \n",
      "attn weights: tensor([[0.0849, 0.0000, 0.0000, 0.0000, 0.0000, 0.0000, 0.0000, 0.0000, 0.0000,\n",
      "         0.0000, 0.0000, 0.0000],\n",
      "        [0.0000, 0.0381, 0.0000, 0.0000, 0.0000, 0.0000, 0.0000, 0.0000, 0.0000,\n",
      "         0.0000, 0.0000, 0.0000],\n",
      "        [0.0000, 0.0000, 1.0000, 0.0000, 0.0000, 0.0000, 0.0000, 0.0000, 0.0000,\n",
      "         0.0000, 0.0000, 0.0000],\n",
      "        [0.0000, 0.0000, 0.0000, 0.0349, 0.0000, 0.0000, 0.0000, 0.0000, 0.0000,\n",
      "         0.0000, 0.0000, 0.0000],\n",
      "        [0.0000, 0.0000, 0.0000, 0.0000, 0.1084, 0.0000, 0.0000, 0.0000, 0.0000,\n",
      "         0.0000, 0.0000, 0.0000],\n",
      "        [0.0000, 0.0000, 0.0000, 0.0000, 0.0000, 0.0616, 0.0000, 0.0000, 0.0000,\n",
      "         0.0000, 0.0000, 0.0000],\n",
      "        [0.0000, 0.0000, 0.0000, 0.0000, 0.0000, 0.0000, 0.0899, 0.0000, 0.0000,\n",
      "         0.0000, 0.0000, 0.0000],\n",
      "        [0.0000, 0.0000, 0.0000, 0.0000, 0.0000, 0.0000, 0.0000, 0.1325, 0.0000,\n",
      "         0.0000, 0.0000, 0.0000],\n",
      "        [0.0000, 0.0000, 0.0000, 0.0000, 0.0000, 0.0000, 0.0000, 0.0000, 0.1579,\n",
      "         0.0000, 0.0000, 0.0000],\n",
      "        [0.0000, 0.0000, 0.0000, 0.0000, 0.0000, 0.0000, 0.0000, 0.0000, 0.0000,\n",
      "         0.1702, 0.0000, 0.0000],\n",
      "        [0.0000, 0.0000, 0.0000, 0.0000, 0.0000, 0.0000, 0.0000, 0.0000, 0.0000,\n",
      "         0.0000, 0.1461, 0.0000],\n",
      "        [0.0000, 0.0000, 0.0000, 0.0000, 0.0000, 0.0000, 0.0000, 0.0000, 0.0000,\n",
      "         0.0000, 0.0000, 0.1398]])\n",
      "attn heatmap\n"
     ]
    },
    {
     "data": {
      "image/png": "[encoded data removed]",
      "text/plain": [
       "<Figure size 640x480 with 2 Axes>"
      ]
     },
     "metadata": {},
     "output_type": "display_data"
    },
    {
     "name": "stdout",
     "output_type": "stream",
     "text": [
      "score: [0.03971508517861366, 0.16132457554340363, 0.00486462377011776, 0.07117769122123718, 0.016475606709718704, 0.04463330656290054, 0.06477095931768417, 0.1154308095574379, 0.22261765599250793, 0.05599154159426689, 0.023280765861272812, 0.010746622458100319]\n",
      "score heatmap\n"
     ]
    },
    {
     "data": {
      "image/png": "[encoded data removed]",
      "text/plain": [
       "<Figure size 640x480 with 2 Axes>"
      ]
     },
     "metadata": {},
     "output_type": "display_data"
    },
    {
     "name": "stdout",
     "output_type": "stream",
     "text": [
      "12\n",
      "0.03971508517861366\n",
      "0.16132457554340363\n",
      "0.00486462377011776\n",
      "0.07117769122123718\n",
      "0.016475606709718704\n",
      "0.04463330656290054\n",
      "0.06477095931768417\n",
      "0.1154308095574379\n",
      "0.22261765599250793\n",
      "0.05599154159426689\n",
      "0.023280765861272812\n",
      "0.010746622458100319\n",
      "car_over_camera\n",
      "Eiffel Tower\n"
     ]
    }
   ],
   "source": [
    "for video_name, data in model_score.items():\n",
    "    print(video_name)\n",
    "    if dataset_name == \"SumMe\":\n",
    "        if \"St Maarten Landing\" not in video_name:\n",
    "            continue\n",
    "    elif dataset_name == \"TVSum\": \n",
    "        if \"XzYM3PfTM4w\" not in video_name:\n",
    "            continue\n",
    "    print(\"video:\", video_name)\n",
    "    summary = data['summary']\n",
    "    score = data['score']\n",
    "    attn_weights = data['attn_weights'].cpu()\n",
    "    if dataset_name == \"SumMe\":\n",
    "        best_user = data['best_user']\n",
    "    \n",
    "    unique, counts = np.unique(summary, return_counts=True)\n",
    "    values = dict(zip(unique, counts))\n",
    "    print(values[1] / len(summary))\n",
    "    \n",
    "    print(attn_weights.shape)\n",
    "    \n",
    "    \n",
    "    index = video2index[video_name]\n",
    "    n_frames = np.array(hdf[index][\"n_frames\"])\n",
    "    change_points = np.array(hdf[index][\"change_points\"])\n",
    "    user_summary = np.array(hdf[index][\"user_summary\"])\n",
    "    print(\"video name:\", video_name, index)\n",
    "    print(\"num frames:\", n_frames)\n",
    "    print(\"changepoint:\", change_points.shape)\n",
    "    print(\"user sum:\", user_summary.shape)\n",
    "    print(\"attn weight 0:\", attn_weights.shape[0])\n",
    "    print(\"attn diag:\")\n",
    "    for i in range(attn_weights.shape[0]):\n",
    "        print(attn_weights[i][i].numpy(), end = \" \")\n",
    "    print(\"\")\n",
    "    \n",
    "    print(\"attn weights:\", attn_weights)\n",
    "    print(\"attn heatmap\")\n",
    "    ax = sns.heatmap(attn_weights, linewidth=0.5)\n",
    "    plt.grid(False)\n",
    "    plt.show()\n",
    "    print(\"score:\", score)\n",
    "    print(\"score heatmap\")\n",
    "    ax = sns.heatmap(np.array(score).reshape((1, -1)), linewidth=0.5, square=True, cbar_kws={\"orientation\": \"horizontal\"})\n",
    "    plt.yticks([])\n",
    "    plt.grid(False)\n",
    "    plt.show()\n",
    "    print(len(score))\n",
    "    for segscore in score:\n",
    "        if segscore < 0.9:\n",
    "            print(segscore)\n",
    "        else:\n",
    "            print(\"higher than 0.9\")\n",
    "    \n",
    "    \n",
    "#     print(summary)\n",
    "    \n",
    "#     idx = 90\n",
    "#     step = 30\n",
    "#     accepted_index = (\n",
    "#         [i for i in range(0, idx, step)]\n",
    "#         + [i for i in range(int(n_frames / 2), int(n_frames / 2) + idx, step)]\n",
    "#         + [i for i in range(n_frames - idx, n_frames, step)]\n",
    "#     )\n",
    "\n",
    "#     num_imgs = 10\n",
    "#     step = int(n_frames / num_imgs)\n",
    "#     print(step)\n",
    "\n",
    "#     accepted_index = [i for i in range(0, n_frames, step)]\n",
    "\n",
    "#     print(accepted_index)\n",
    "\n",
    "#     count = 0\n",
    "    \n",
    "#     parent_path = f\"frames/{video_name}/\"\n",
    "#     Path(parent_path).mkdir(parents=True, exist_ok=True)\n",
    "    \n",
    "#     video_full_path = os.path.join(video_path, f\"{video_name}.mp4\")\n",
    "#     print(video_full_path)\n",
    "#     video = cv2.VideoCapture(video_full_path)\n",
    "#     print(\"opened!\")\n",
    "#     while True:\n",
    "#         success, image = video.read()\n",
    "#         if success:\n",
    "#             if count in accepted_index:\n",
    "#                 img_name = parent_path + video_name + \"_\" + str(count) + \".jpg\"\n",
    "#                 print(f\"save img {img_name}\")\n",
    "#                 cv2.imwrite(img_name, image)\n",
    "#         else:\n",
    "#             break\n",
    "#         count += 1\n",
    "\n",
    "#         if video.get(cv2.CAP_PROP_POS_FRAMES) == video.get(\n",
    "#             cv2.CAP_PROP_FRAME_COUNT\n",
    "#         ):\n",
    "#             # If the end of the video has been reached, break out of the loop\n",
    "#             break\n",
    "\n",
    "#     video.release()\n",
    "#     cv2.destroyAllWindows()\n",
    "#     print(\"closed!\")"
   ]
  },
  {
   "cell_type": "code",
   "execution_count": 20,
   "id": "1ef4cdcc",
   "metadata": {},
   "outputs": [],
   "source": [
    "# VD: sigma=0,3, các giá trị sẽ đối xứng qua 0.3 đểloss = 0, sigma=0.9 thì các giá trị sẽ đối xứng nhau qua 0.9\n",
    "# Điểm yếu: không đẩy bật được score của segment được chọn và không được chọn"
   ]
  },
  {
   "cell_type": "code",
   "execution_count": 5,
   "id": "1cd9ca57",
   "metadata": {},
   "outputs": [
    {
     "ename": "NameError",
     "evalue": "name 'score' is not defined",
     "output_type": "error",
     "traceback": [
      "\u001b[0;31m---------------------------------------------------------------------------\u001b[0m",
      "\u001b[0;31mNameError\u001b[0m                                 Traceback (most recent call last)",
      "Cell \u001b[0;32mIn[5], line 2\u001b[0m\n\u001b[1;32m      1\u001b[0m sum_all \u001b[38;5;241m=\u001b[39m \u001b[38;5;241m0\u001b[39m\n\u001b[0;32m----> 2\u001b[0m \u001b[38;5;28;01mfor\u001b[39;00m segscore \u001b[38;5;129;01min\u001b[39;00m \u001b[43mscore\u001b[49m:\n\u001b[1;32m      3\u001b[0m     sum_all \u001b[38;5;241m+\u001b[39m\u001b[38;5;241m=\u001b[39m segscore\n\u001b[1;32m      5\u001b[0m \u001b[38;5;28mprint\u001b[39m(sum_all\u001b[38;5;241m/\u001b[39m\u001b[38;5;241m21\u001b[39m)\n",
      "\u001b[0;31mNameError\u001b[0m: name 'score' is not defined"
     ]
    }
   ],
   "source": [
    "sum_all = 0\n",
    "for segscore in score:\n",
    "    sum_all += segscore\n",
    "    \n",
    "print(sum_all/21)"
   ]
  },
  {
   "cell_type": "code",
   "execution_count": null,
   "id": "abfc0455",
   "metadata": {},
   "outputs": [],
   "source": []
  }
 ],
 "metadata": {
  "kernelspec": {
   "display_name": "Python 3 (ipykernel)",
   "language": "python",
   "name": "python3"
  },
  "language_info": {
   "codemirror_mode": {
    "name": "ipython",
    "version": 3
   },
   "file_extension": ".py",
   "mimetype": "text/x-python",
   "name": "python",
   "nbconvert_exporter": "python",
   "pygments_lexer": "ipython3",
   "version": "3.10.12"
  }
 },
 "nbformat": 4,
 "nbformat_minor": 5
}
